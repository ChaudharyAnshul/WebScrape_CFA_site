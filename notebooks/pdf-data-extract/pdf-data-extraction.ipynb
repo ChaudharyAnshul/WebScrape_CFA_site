{
 "cells": [
  {
   "cell_type": "code",
   "execution_count": 1,
   "id": "cfb9d178-a25d-48ed-87d9-c09c4da6b355",
   "metadata": {},
   "outputs": [
    {
     "name": "stdout",
     "output_type": "stream",
     "text": [
      "Requirement already satisfied: PyPDF2 in e:\\spring 24\\big data\\assignnment 2\\assignment-2\\venv\\lib\\site-packages (3.0.1)\n"
     ]
    },
    {
     "name": "stderr",
     "output_type": "stream",
     "text": [
      "\n",
      "[notice] A new release of pip is available: 23.3.2 -> 24.0\n",
      "[notice] To update, run: python.exe -m pip install --upgrade pip\n"
     ]
    }
   ],
   "source": [
    "# Installing and importing required libraries\n",
    "!pip install PyPDF2\n",
    "import PyPDF2\n",
    "import re"
   ]
  },
  {
   "cell_type": "code",
   "execution_count": 2,
   "id": "13830e75-78ff-470d-88da-33b9636695d7",
   "metadata": {},
   "outputs": [],
   "source": [
    "# Defining a function to process PDFs and extract topic outlines and learning outcomes\n",
    "def process_pdf(input_pdf_path, output_txt_path):\n",
    "    pdfFileObj = open(input_pdf_path, 'rb')\n",
    "    pdfReader = PyPDF2.PdfReader(pdfFileObj)\n",
    "\n",
    "    print(f\"Processing {input_pdf_path}\")\n",
    "    print(\"Total number of pages:\", len(pdfReader.pages))\n",
    "    \n",
    "# Initializing dictionaries to store extracted content\n",
    "    content = dict()\n",
    "    topic = \"\"\n",
    "    topic_dict = dict()\n",
    "\n",
    "    # Iterating through each page of the PDF and extracting text from the current page and split into lines\n",
    "    for page_num in range(len(pdfReader.pages)):\n",
    "        t = pdfReader.pages[page_num].extract_text().split('\\n')\n",
    "        line_num = 0\n",
    "\n",
    "        # Skipping header lines containing 'topic outlines'\n",
    "        while line_num < len(t):\n",
    "            if line_num == 0:\n",
    "                if 'topic outlines' in t[line_num].strip().lower():\n",
    "                    line_num += 1\n",
    "                topic_new = re.sub(r'[^A-Za-z ]+', '', t[line_num]).strip()\n",
    "            \n",
    "                # Checking if the topic already exists in the content dictionary\n",
    "                all_keys = [x.lower().strip().replace(\" \", \"\") for x in content.keys()]\n",
    "                if topic_new.lower().strip().replace(\" \", \"\") in all_keys:\n",
    "                    topic_new = list(filter(lambda x: x.lower().strip().replace(\" \", \"\") == topic_new.lower().strip().replace(\" \", \"\"), content.keys()))[0]\n",
    "\n",
    "                # Updating the topic if it has changed\n",
    "                if topic == topic_new:\n",
    "                    pass\n",
    "                else:\n",
    "                    subtopic = \"\"\n",
    "                    subtopic_dict = []\n",
    "                    topic = topic_new\n",
    "            topic_dict = content.get(topic, dict())\n",
    "\n",
    "            # Identifying subtopics i.e. Learning outcoomes for Topics\n",
    "            subtopic_loc = t[line_num].find(\"The candidate should be able to:\")\n",
    "            if subtopic_loc != -1:\n",
    "                subtopic = t[line_num - 1] if subtopic_loc == 0 else t[line_num][:subtopic_loc + 1]\n",
    "                subtopic_dict = topic_dict.get(subtopic, [])\n",
    "                tab_loc = t[line_num].find(\"\\t\")\n",
    "\n",
    "                # Extract learning outcomes and appending to the subtopic dictionary\n",
    "                append_list = t[line_num][tab_loc + 1:] + t[line_num + 1]\n",
    "                if append_list.find(\"\\t\") == -1:\n",
    "                    subtopic_dict.append(append_list)\n",
    "\n",
    "                    line_num += 2\n",
    "                if line_num >= len(t):\n",
    "                    break\n",
    "            # Handeling corcer cases, extract learning outcomes from lines with tabs\n",
    "            tab_loc = t[line_num].find(\"\\t\")\n",
    "\n",
    "            if tab_loc != -1:\n",
    "                subtopic_dict.append(t[line_num][tab_loc + 1:])\n",
    "\n",
    "            # Updating the topic dictionary\n",
    "            topic_dict[subtopic] = subtopic_dict\n",
    "            content[topic] = topic_dict\n",
    "\n",
    "            line_num += 1\n",
    "    \n",
    "    # Writing the extracted data to an output text files\n",
    "    with open(output_txt_path, 'w', encoding='utf-8') as output_file:\n",
    "        for topic, subtopics in content.items():\n",
    "            output_file.write(f\"\\nTopic: {topic}\\n\")\n",
    "            output_file.write(\"\\t\\n\\tLearning Outcomes: \\n\")\n",
    "            output_file.write(\"\\t\\t(For the below Learning Outcomes, The candidate should be able to: )\\n\")\n",
    "            for subtopic, learning_outcomes in subtopics.items():\n",
    "                if subtopic == '':\n",
    "                    continue\n",
    "                output_file.write(f\"\\t{subtopic}\\n\")\n",
    "                for outcome in learning_outcomes:\n",
    "                    output_file.write(f\"\\t\\t- {outcome}\\n\")\n",
    "\n",
    "    print(f\"Output saved to: {output_txt_path}\")\n"
   ]
  },
  {
   "cell_type": "code",
   "execution_count": 10,
   "id": "9186644c-8c76-49a4-bc09-780321ee0bf9",
   "metadata": {},
   "outputs": [
    {
     "name": "stdout",
     "output_type": "stream",
     "text": [
      "Processing ..\\..\\data\\raw-pdf-data\\2024-l1-topics-combined-2.pdf\n",
      "Total number of pages: 27\n",
      "Output saved to: ..\\..\\data\\extracted-pdf-data_PyPDF2\\PyPDF_RR_2024_l1_combined.txt\n"
     ]
    }
   ],
   "source": [
    "# Processing all 3 PDF files for three different levels and storing extracted  data in 3 different text files\n",
    "process_pdf('..\\\\..\\\\data\\\\raw-pdf-data\\\\2024-l1-topics-combined-2.pdf', '..\\\\..\\\\data\\\\extracted-pdf-data_PyPDF2\\\\PyPDF_RR_2024_l1_combined.txt')\n",
    "process_pdf('..\\\\..\\\\data\\\\raw-pdf-data\\2024-l2-topics-combined-2.pdf', '..\\..\\data\\extracted-pdf-data_PyPDF2\\PyPDF_RR_2024_l2_combined.txt')\n",
    "process_pdf('..\\\\..\\\\data\\\\raw-pdf-data\\2024-l3-topics-combined-2.pdf', '..\\..\\data\\extracted-pdf-data_PyPDF2\\PyPDF_RR_2024_l3_combined.txt')"
   ]
  },
  {
   "cell_type": "code",
   "execution_count": null,
   "id": "b1fd4c0b-f104-45a0-bf54-f0c9429d4977",
   "metadata": {},
   "outputs": [],
   "source": []
  },
  {
   "cell_type": "code",
   "execution_count": null,
   "id": "182c16f3-b0bf-4d9a-8da3-e92b5ad59883",
   "metadata": {},
   "outputs": [],
   "source": []
  }
 ],
 "metadata": {
  "kernelspec": {
   "display_name": "Python 3 (ipykernel)",
   "language": "python",
   "name": "python3"
  },
  "language_info": {
   "codemirror_mode": {
    "name": "ipython",
    "version": 3
   },
   "file_extension": ".py",
   "mimetype": "text/x-python",
   "name": "python",
   "nbconvert_exporter": "python",
   "pygments_lexer": "ipython3",
   "version": "3.11.5"
  }
 },
 "nbformat": 4,
 "nbformat_minor": 5
}
