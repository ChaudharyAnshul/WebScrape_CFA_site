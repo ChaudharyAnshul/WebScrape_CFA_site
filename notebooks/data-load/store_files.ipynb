{
 "cells": [
  {
   "cell_type": "code",
   "execution_count": 1,
   "id": "26b73e6a-2bac-4a94-9545-279c36d44a34",
   "metadata": {},
   "outputs": [],
   "source": [
    "import boto3\n",
    "from botocore.exceptions import ClientError"
   ]
  },
  {
   "cell_type": "code",
   "execution_count": 3,
   "id": "b7fe231f-e80e-42ea-8abe-ef15c9b7b2ec",
   "metadata": {},
   "outputs": [],
   "source": [
    "# function to upload files to S3\n",
    "def uploadFiletoS3(file_name, bucket, object_name):\n",
    "    try:  \n",
    "        # get S3 object\n",
    "        s3 = boto3.client('s3')\n",
    "\n",
    "        # upload file\n",
    "        with open(file_name, \"rb\") as f:\n",
    "             s3.upload_fileobj(f, bucket, object_name)\n",
    "    except ClientError as e:\n",
    "        print(\"Error in S3 Upload\")\n",
    "        print(e)"
   ]
  },
  {
   "cell_type": "code",
   "execution_count": 2,
   "id": "49ea11b5-01e2-4e3e-bb0f-a92e013df07b",
   "metadata": {},
   "outputs": [],
   "source": [
    "# function to upload csv and log file \n",
    "def upload_file():\n",
    "    # initialize all the locations\n",
    "    data_source = \"..\\..\\data\\scrape-data\\cfa-data.csv\"\n",
    "    log_source = \"..\\..\\logs\\scrape-log\\webscrapping.log\"\n",
    "\n",
    "    bucket = \"cfa-data-t2\"\n",
    "\n",
    "    data_destination = \"csv-files/cfa-data.csv\"\n",
    "    log_destination = \"log-files/webscrapping.log\"\n",
    "\n",
    "    # upload csv file\n",
    "    uploadFiletoS3(data_source, bucket, data_destination, \"csv\")\n",
    "\n",
    "    # upload log file\n",
    "    uploadFiletoS3(log_source, bucket, log_destination, \"log\")"
   ]
  },
  {
   "cell_type": "code",
   "execution_count": null,
   "id": "108b4653-3a28-4877-975f-3a563599d6cf",
   "metadata": {},
   "outputs": [],
   "source": []
  }
 ],
 "metadata": {
  "kernelspec": {
   "display_name": "Python 3 (ipykernel)",
   "language": "python",
   "name": "python3"
  },
  "language_info": {
   "codemirror_mode": {
    "name": "ipython",
    "version": 3
   },
   "file_extension": ".py",
   "mimetype": "text/x-python",
   "name": "python",
   "nbconvert_exporter": "python",
   "pygments_lexer": "ipython3",
   "version": "3.11.5"
  }
 },
 "nbformat": 4,
 "nbformat_minor": 5
}
