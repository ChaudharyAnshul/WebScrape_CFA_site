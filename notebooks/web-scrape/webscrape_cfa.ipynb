{
 "cells": [
  {
   "cell_type": "code",
   "execution_count": 1,
   "id": "473d0049-bf53-4873-9a5f-af13583284ef",
   "metadata": {},
   "outputs": [],
   "source": [
    "from bs4 import BeautifulSoup as bs\n",
    "from datetime import datetime\n",
    "import logging\n",
    "from IPython.display import display, Markdown\n",
    "import pandas as pd\n",
    "import requests\n",
    "from selenium import webdriver\n",
    "from typing import List, Tuple\n",
    "import time"
   ]
  },
  {
   "cell_type": "code",
   "execution_count": 2,
   "id": "ed0d5947-98aa-4efa-ae7c-862116feb5ce",
   "metadata": {},
   "outputs": [],
   "source": [
    "# Configure logging\n",
    "file_name = \"..\\..\\logs\\scrape-log\\webscrapping.log\"\n",
    "logger = logging.getLogger(__name__)\n",
    "logger.setLevel(logging.DEBUG)\n",
    "if not logger.handlers:\n",
    "    handler = logging.FileHandler(file_name)\n",
    "    formatter = logging.Formatter('%(asctime)s - %(levelname)s - %(message)s')\n",
    "    handler.setFormatter(formatter)\n",
    "    logger.addHandler(handler)\n",
    "\n",
    "# display log message in-line \n",
    "class NotebookHandler(logging.Handler):\n",
    "    def emit(self, record):\n",
    "        display(Markdown(self.format(record)))\n",
    "        \n",
    "logger.addHandler(NotebookHandler())\n",
    "\n",
    "# set the file to empty at start\n",
    "with open(file_name, 'w'):\n",
    "    pass"
   ]
  },
  {
   "cell_type": "code",
   "execution_count": 3,
   "id": "f78a424c-61e5-41d4-af42-c3a24bfbd7fb",
   "metadata": {},
   "outputs": [],
   "source": [
    "# test the URL connection\n",
    "def testConnection():\n",
    "    try:\n",
    "        logger.info('Testing URL connection for Web Scrapping')\n",
    "        url_test = \"https://www.cfainstitute.org/en/membership/professional-development/refresher-readings#first={first}&sort=%40refreadingcurriculumyear%20descending&numberOfResults=100\".format(first=0)\n",
    "        print(\"URL: \",url_test)\n",
    "        response_test = requests.get(url_test)\n",
    "        print(response_test)\n",
    "        logger.info('Successfully connected to the site')\n",
    "        return True\n",
    "    except:\n",
    "        logger.error(\"Error in loading the URL\")\n",
    "        return False"
   ]
  },
  {
   "cell_type": "code",
   "execution_count": 4,
   "id": "4499d549-450e-4fd4-b863-c7bc6342d2bd",
   "metadata": {},
   "outputs": [],
   "source": [
    "# function to return individual page Links\n",
    "def getPageURLs() -> list:\n",
    "    # base URL\n",
    "    base_url = \"https://www.cfainstitute.org/en/membership/professional-development/refresher-readings\"\n",
    "    \n",
    "    # additional section for the URL to specify the first row and the number of results\n",
    "    additional_section = \"#first={first}&sort=%40refreadingcurriculumyear%20descending&numberOfResults=100\"\n",
    "    \n",
    "    individual_topics_urls = [] # store individual page URLs (sub pages to collect data)\n",
    "    first_entry = 0 # start of the entries on web page\n",
    "    has_more_pages = True # flag to keep scrapping\n",
    "    count = 0\n",
    "\n",
    "    # Set up Selenium WebDriver to scrape dynamic data\n",
    "    driver = webdriver.Chrome()\n",
    "\n",
    "    logger.info(\"------- Starting URL Extraction -------\")\n",
    "    while has_more_pages:\n",
    "        try:\n",
    "            # increment counter\n",
    "            count += 1\n",
    "        \n",
    "            # Construct URL to Scrape Data\n",
    "            url = base_url + additional_section.format(first=first_entry)  \n",
    "        \n",
    "            # load the Web Page that has Dyanmic content with help of selenium \n",
    "            driver.get(url)\n",
    "\n",
    "            # Sleep for 5 seconds for page to load\n",
    "            time.sleep(5)\n",
    "            \n",
    "            # get the source HTML code\n",
    "            page = driver.page_source\n",
    "        \n",
    "            # use BeautifulSoup to load pase the content\n",
    "            parsed_content = bs(page, 'html.parser')\n",
    "        \n",
    "            # find all the individual 224 entries and get the URL\n",
    "            for parse in parsed_content.find_all(\"div\", {\"class\": \"coveo-list-layout\"}):\n",
    "                a_tag = parse.find('a') # get the <a> tags\n",
    "                individual_topics_urls.append((a_tag.text, a_tag.get('href')))\n",
    "    \n",
    "            # Find the Next page button on the page\n",
    "            next_button = parsed_content.find_all(\"li\", {\"class\": \"coveo-pager-next\"})\n",
    "    \n",
    "            # if next button is present go to next page \n",
    "            if next_button:\n",
    "                first_entry += 100\n",
    "            else:\n",
    "                has_more_pages = False\n",
    "                \n",
    "\n",
    "            \n",
    "            logger.info(\"Total topics found after iteration {count} iterations are {length}\".format(count=count, length=len(individual_topics_urls)))\n",
    "            \n",
    "        except Exception as e:\n",
    "            logger.error(\"Exception:\", e)\n",
    "            break\n",
    "            \n",
    "    # Close the Selenium WebDriver\n",
    "    driver.quit()\n",
    "    \n",
    "    logger.info(\"------- Ending URL Extraction -------\")\n",
    "    return individual_topics_urls    "
   ]
  },
  {
   "cell_type": "code",
   "execution_count": 5,
   "id": "68fa6c84-67b2-4de7-af19-c734d7a05c35",
   "metadata": {},
   "outputs": [],
   "source": [
    "# function to scrape Data from CFA site (Raw Data)\n",
    "def extractData(individual_topics_urls: List[Tuple[str, str]]):\n",
    "    \n",
    "    logger.info(\"------- Starting Data Extraction -------\")\n",
    "    \n",
    "    # Set up Selenium WebDriver to scrape dynamic data\n",
    "    driver = webdriver.Chrome()\n",
    "    \n",
    "    # initialize data frame\n",
    "    raw_df = pd.DataFrame(columns=['NameOfTheTopic', 'Year', 'Level', 'IntroductionSummary', 'LearningOutcomes', 'SummaryPageLink', 'PDFFileLink'])\n",
    "\n",
    "    # iteration counter\n",
    "    counter = 0\n",
    "    \n",
    "    for topic, topic_url in individual_topics_urls:\n",
    "        try:\n",
    "            # load the Web Page that has Dyanmic content with help of selenium \n",
    "            driver.get(topic_url)\n",
    "            \n",
    "            # Sleep for 2 seconds for page to laod\n",
    "            time.sleep(2)\n",
    "            \n",
    "            # reset temp\n",
    "            temp = {}\n",
    "\n",
    "            # increment counter\n",
    "            counter += 1\n",
    "            \n",
    "            # get the source HTML code\n",
    "            page = driver.page_source\n",
    "\n",
    "            # use BeautifulSoup to load pase the content\n",
    "            parsed_content = bs(page, 'html.parser')\n",
    "\n",
    "            # extract title\n",
    "            try:\n",
    "                title = parsed_content.find(\"h1\", {\"class\": \"article-title\"}).text.strip().strip(\"\\u200b\")\n",
    "            except:\n",
    "                logger.error(\"Iteration: {} topic: {} -> title not found\".format(counter, topic))\n",
    "                title = None\n",
    "\n",
    "            # extract Year and Level\n",
    "            try:\n",
    "                content_utility = parsed_content.find(\"div\", {\"class\": \"content-utility\"})\n",
    "                try: \n",
    "                    year = content_utility.find('span', {\"class\": \"content-utility-curriculum\"}).text.strip().split('\\n')[0]\n",
    "                except:\n",
    "                    logger.error(\"Iteration: {} topic: {} -> content-utility-curriculum (Year) not found\".format(counter, topic))\n",
    "                    year = None\n",
    "                try:\n",
    "                    level = content_utility.find(\"span\", {\"class\": \"content-utility-topic\"}).text.strip().strip(\"Level \")\n",
    "                except:\n",
    "                    logger.error(\"Iteration: {} topic: {} -> content-utility-topic (level) not found\".format(counter, topic))\n",
    "                    level = None\n",
    "            except:\n",
    "                logger.error(\"Iteration: {} topic: {} -> content_utility (Year and Level) not found\".format(counter, topic))\n",
    "                year = None\n",
    "                level = None\n",
    "\n",
    "            # extract Introduction Summary and Learning Outcomes\n",
    "            try:\n",
    "                h2_elements = parsed_content.find_all(\"h2\", {\"class\": \"article-section\"})\n",
    "\n",
    "                # extract Introduction\n",
    "                try:\n",
    "                    introductions = h2_elements[0].parent.find_all(\"p\")\n",
    "                    intro = \"\"\n",
    "                    for introduction in introductions:\n",
    "                        intro += introduction.text.strip()\n",
    "                    intro.strip()\n",
    "                    \n",
    "                    points = h2_elements[0].parent.find_all(\"li\")\n",
    "                    intro_points = ''\n",
    "                    for point in points:\n",
    "                        intro_points += point.text\n",
    "                    intro = intro + \" \" + intro_points\n",
    "                except:\n",
    "                    logger.error(\"Iteration: {} topic: {} -> Introduction not found\".format(counter, topic))\n",
    "                    intro = None\n",
    "\n",
    "                # extract Learning Outcomes\n",
    "                try:    \n",
    "                    learning_outcomes_paras = h2_elements[1].find_next_sibling().find_all(\"p\") \n",
    "                    learning_outcomes = h2_elements[1].find_next_sibling().find_all(\"li\") \n",
    "                    learnings = ''\n",
    "                    for learning_outcomes_para in learning_outcomes_paras:\n",
    "                        if learning_outcomes_para.text:\n",
    "                            learnings += \" \" + learning_outcomes_para.text.strip()\n",
    "                        \n",
    "                    for learning_outcome in learning_outcomes:\n",
    "                        if learning_outcome.text:\n",
    "                            learnings += learning_outcome.text\n",
    "                    \n",
    "                    learning_list = [s.strip() for s in learnings.split(\"\\n\")]\n",
    "                    learnings = ''.join(learning_list)\n",
    "                except:\n",
    "                    logger.error(\"Iteration: {} topic: {} -> Learning Outcomes not found\".format(counter, topic))\n",
    "                    learnings = None\n",
    "            except:\n",
    "                logger.error(\"Iteration: {} topic: {} -> Introduction and Learning Outcomes not found\".format(counter, topic))\n",
    "                learnings = None\n",
    "                intro = None\n",
    "              \n",
    "            # extrat PDF File Link\n",
    "            try:\n",
    "                lock_content = parsed_content.find(\"section\", {\"class\": \"primary-asset login-required\"})\n",
    "                pdf_link = [a for a in lock_content.find_all('a', {\"class\": \"locked-content\"}) if a.text.strip()=='Download the full reading (PDF)'][0].get(\"href\")  \n",
    "                pdf_link = 'https://www.cfainstitute.org' + pdf_link\n",
    "            except:\n",
    "                logger.error(\"Iteration: {} topic: {} -> PDF Link not found\".format(counter, topic))\n",
    "                pdf_link = None\n",
    "\n",
    "            temp['NameOfTheTopic'] = title\n",
    "            temp['Year'] = year\n",
    "            temp['Level'] = level\n",
    "            temp['IntroductionSummary'] = intro\n",
    "            temp['LearningOutcomes'] = learnings\n",
    "            temp['PDFFileLink'] = pdf_link\n",
    "            temp['SummaryPageLink'] = topic_url\n",
    "            raw_df = pd.concat([raw_df, pd.DataFrame([temp])], ignore_index=True)\n",
    "        \n",
    "        except:\n",
    "            logger.error(\"Iteration: {} topic: {} -> Unknown Error\".format(counter, topic))\n",
    "            \n",
    "    # Close the Selenium WebDriver\n",
    "    driver.quit()\n",
    "    \n",
    "    logger.info(\"------- Ending Data Extraction -------\")\n",
    "    \n",
    "    return raw_df\n",
    "    "
   ]
  },
  {
   "cell_type": "code",
   "execution_count": 6,
   "id": "9399f91b-c415-435f-88bb-355b9c2efaac",
   "metadata": {},
   "outputs": [],
   "source": [
    "# function to store DF locally\n",
    "def convertDFtoCSV(df):\n",
    "    try:\n",
    "        logger.info(\"-------Starting Writing to CSV -------\")\n",
    "        csv_location = \"..\\..\\data\\scrape-data\\cfa-data.csv\"\n",
    "        df.to_csv(csv_location, index=False)\n",
    "        logger.info(\"------- Ending Writing to CSV -------\")\n",
    "    except:\n",
    "        logger.error(\"Error in writing to CSV\")"
   ]
  },
  {
   "cell_type": "code",
   "execution_count": 7,
   "id": "2b2a00c1-81b8-4f8c-9f24-777703f54683",
   "metadata": {
    "scrolled": true
   },
   "outputs": [
    {
     "data": {
      "text/markdown": [
       "Testing URL connection for Web Scrapping"
      ],
      "text/plain": [
       "<IPython.core.display.Markdown object>"
      ]
     },
     "metadata": {},
     "output_type": "display_data"
    },
    {
     "name": "stdout",
     "output_type": "stream",
     "text": [
      "URL:  https://www.cfainstitute.org/en/membership/professional-development/refresher-readings#first=0&sort=%40refreadingcurriculumyear%20descending&numberOfResults=100\n",
      "<Response [200]>\n"
     ]
    },
    {
     "data": {
      "text/markdown": [
       "Successfully connected to the site"
      ],
      "text/plain": [
       "<IPython.core.display.Markdown object>"
      ]
     },
     "metadata": {},
     "output_type": "display_data"
    },
    {
     "data": {
      "text/markdown": [
       "------- Starting URL Extraction -------"
      ],
      "text/plain": [
       "<IPython.core.display.Markdown object>"
      ]
     },
     "metadata": {},
     "output_type": "display_data"
    },
    {
     "data": {
      "text/markdown": [
       "Total topics found after iteration 1 iterations are 100"
      ],
      "text/plain": [
       "<IPython.core.display.Markdown object>"
      ]
     },
     "metadata": {},
     "output_type": "display_data"
    },
    {
     "data": {
      "text/markdown": [
       "Total topics found after iteration 2 iterations are 200"
      ],
      "text/plain": [
       "<IPython.core.display.Markdown object>"
      ]
     },
     "metadata": {},
     "output_type": "display_data"
    },
    {
     "data": {
      "text/markdown": [
       "Total topics found after iteration 3 iterations are 224"
      ],
      "text/plain": [
       "<IPython.core.display.Markdown object>"
      ]
     },
     "metadata": {},
     "output_type": "display_data"
    },
    {
     "data": {
      "text/markdown": [
       "------- Ending URL Extraction -------"
      ],
      "text/plain": [
       "<IPython.core.display.Markdown object>"
      ]
     },
     "metadata": {},
     "output_type": "display_data"
    },
    {
     "data": {
      "text/markdown": [
       "------- Starting Data Extraction -------"
      ],
      "text/plain": [
       "<IPython.core.display.Markdown object>"
      ]
     },
     "metadata": {},
     "output_type": "display_data"
    },
    {
     "data": {
      "text/markdown": [
       "Iteration: 110 topic: Refresher Reading 02-18-2021  -> PDF Link not found"
      ],
      "text/plain": [
       "<IPython.core.display.Markdown object>"
      ]
     },
     "metadata": {},
     "output_type": "display_data"
    },
    {
     "data": {
      "text/markdown": [
       "Iteration: 111 topic: Refresher Reading 11-13-2020  -> PDF Link not found"
      ],
      "text/plain": [
       "<IPython.core.display.Markdown object>"
      ]
     },
     "metadata": {},
     "output_type": "display_data"
    },
    {
     "data": {
      "text/markdown": [
       "Iteration: 141 topic: ICE RSS FEED Active Equity Investing: Strategies  -> PDF Link not found"
      ],
      "text/plain": [
       "<IPython.core.display.Markdown object>"
      ]
     },
     "metadata": {},
     "output_type": "display_data"
    },
    {
     "data": {
      "text/markdown": [
       "Iteration: 142 topic: test  -> content-utility-curriculum (Year) not found"
      ],
      "text/plain": [
       "<IPython.core.display.Markdown object>"
      ]
     },
     "metadata": {},
     "output_type": "display_data"
    },
    {
     "data": {
      "text/markdown": [
       "Iteration: 142 topic: test  -> PDF Link not found"
      ],
      "text/plain": [
       "<IPython.core.display.Markdown object>"
      ]
     },
     "metadata": {},
     "output_type": "display_data"
    },
    {
     "data": {
      "text/markdown": [
       "Iteration: 143 topic: TEST RR  -> content-utility-curriculum (Year) not found"
      ],
      "text/plain": [
       "<IPython.core.display.Markdown object>"
      ]
     },
     "metadata": {},
     "output_type": "display_data"
    },
    {
     "data": {
      "text/markdown": [
       "Iteration: 143 topic: TEST RR  -> PDF Link not found"
      ],
      "text/plain": [
       "<IPython.core.display.Markdown object>"
      ]
     },
     "metadata": {},
     "output_type": "display_data"
    },
    {
     "data": {
      "text/markdown": [
       "Iteration: 144 topic: QA Test RR 1  -> content-utility-curriculum (Year) not found"
      ],
      "text/plain": [
       "<IPython.core.display.Markdown object>"
      ]
     },
     "metadata": {},
     "output_type": "display_data"
    },
    {
     "data": {
      "text/markdown": [
       "Iteration: 144 topic: QA Test RR 1  -> PDF Link not found"
      ],
      "text/plain": [
       "<IPython.core.display.Markdown object>"
      ]
     },
     "metadata": {},
     "output_type": "display_data"
    },
    {
     "data": {
      "text/markdown": [
       "Iteration: 145 topic: Branded Image Link Added to Refresher Reading  -> content-utility-curriculum (Year) not found"
      ],
      "text/plain": [
       "<IPython.core.display.Markdown object>"
      ]
     },
     "metadata": {},
     "output_type": "display_data"
    },
    {
     "data": {
      "text/markdown": [
       "Iteration: 145 topic: Branded Image Link Added to Refresher Reading  -> PDF Link not found"
      ],
      "text/plain": [
       "<IPython.core.display.Markdown object>"
      ]
     },
     "metadata": {},
     "output_type": "display_data"
    },
    {
     "data": {
      "text/markdown": [
       "Iteration: 146 topic: Big Data Projects  -> PDF Link not found"
      ],
      "text/plain": [
       "<IPython.core.display.Markdown object>"
      ]
     },
     "metadata": {},
     "output_type": "display_data"
    },
    {
     "data": {
      "text/markdown": [
       "Iteration: 147 topic: Big Data Projects  -> PDF Link not found"
      ],
      "text/plain": [
       "<IPython.core.display.Markdown object>"
      ]
     },
     "metadata": {},
     "output_type": "display_data"
    },
    {
     "data": {
      "text/markdown": [
       "Iteration: 148 topic: Test 20 Cost of Capital  -> PDF Link not found"
      ],
      "text/plain": [
       "<IPython.core.display.Markdown object>"
      ]
     },
     "metadata": {},
     "output_type": "display_data"
    },
    {
     "data": {
      "text/markdown": [
       "Iteration: 151 topic: Big Data Projects  -> PDF Link not found"
      ],
      "text/plain": [
       "<IPython.core.display.Markdown object>"
      ]
     },
     "metadata": {},
     "output_type": "display_data"
    },
    {
     "data": {
      "text/markdown": [
       "Iteration: 152 topic: Industry and Company Analysis (2018)  -> PDF Link not found"
      ],
      "text/plain": [
       "<IPython.core.display.Markdown object>"
      ]
     },
     "metadata": {},
     "output_type": "display_data"
    },
    {
     "data": {
      "text/markdown": [
       "Iteration: 153 topic: Discounted Dividend Valuation (2018)   -> PDF Link not found"
      ],
      "text/plain": [
       "<IPython.core.display.Markdown object>"
      ]
     },
     "metadata": {},
     "output_type": "display_data"
    },
    {
     "data": {
      "text/markdown": [
       "Iteration: 154 topic: The Portfolio Management Process and the Investment Policy Statement (2018)  -> PDF Link not found"
      ],
      "text/plain": [
       "<IPython.core.display.Markdown object>"
      ]
     },
     "metadata": {},
     "output_type": "display_data"
    },
    {
     "data": {
      "text/markdown": [
       "Iteration: 155 topic: Employee Compensation: Post-Employment and Share-Based (2018)   -> PDF Link not found"
      ],
      "text/plain": [
       "<IPython.core.display.Markdown object>"
      ]
     },
     "metadata": {},
     "output_type": "display_data"
    },
    {
     "data": {
      "text/markdown": [
       "Iteration: 156 topic: Integration of Financial Statement Analysis Techniques (2018)  -> PDF Link not found"
      ],
      "text/plain": [
       "<IPython.core.display.Markdown object>"
      ]
     },
     "metadata": {},
     "output_type": "display_data"
    },
    {
     "data": {
      "text/markdown": [
       "Iteration: 157 topic: Free Cash Flow Valuation (2018)  -> PDF Link not found"
      ],
      "text/plain": [
       "<IPython.core.display.Markdown object>"
      ]
     },
     "metadata": {},
     "output_type": "display_data"
    },
    {
     "data": {
      "text/markdown": [
       "Iteration: 158 topic: Market-Based Valuation: Price and Enterprise Value Multiples (2018)   -> PDF Link not found"
      ],
      "text/plain": [
       "<IPython.core.display.Markdown object>"
      ]
     },
     "metadata": {},
     "output_type": "display_data"
    },
    {
     "data": {
      "text/markdown": [
       "Iteration: 159 topic: Residual Income Valuation (2018)   -> PDF Link not found"
      ],
      "text/plain": [
       "<IPython.core.display.Markdown object>"
      ]
     },
     "metadata": {},
     "output_type": "display_data"
    },
    {
     "data": {
      "text/markdown": [
       "Iteration: 160 topic: Yield-Based Bond Convexity and Portfolio Properties  -> Learning Outcomes not found"
      ],
      "text/plain": [
       "<IPython.core.display.Markdown object>"
      ]
     },
     "metadata": {},
     "output_type": "display_data"
    },
    {
     "data": {
      "text/markdown": [
       "Iteration: 165 topic: Interest Rate Risk and Return   -> Learning Outcomes not found"
      ],
      "text/plain": [
       "<IPython.core.display.Markdown object>"
      ]
     },
     "metadata": {},
     "output_type": "display_data"
    },
    {
     "data": {
      "text/markdown": [
       "Iteration: 166 topic: Yield-Based Bond Duration Measures and Properties  -> Learning Outcomes not found"
      ],
      "text/plain": [
       "<IPython.core.display.Markdown object>"
      ]
     },
     "metadata": {},
     "output_type": "display_data"
    },
    {
     "data": {
      "text/markdown": [
       "Iteration: 168 topic: Yield and Yield Spread Measures for Floating-Rate Instruments  -> Learning Outcomes not found"
      ],
      "text/plain": [
       "<IPython.core.display.Markdown object>"
      ]
     },
     "metadata": {},
     "output_type": "display_data"
    },
    {
     "data": {
      "text/markdown": [
       "Iteration: 170 topic: Capital Investments and Capital Allocation  -> Learning Outcomes not found"
      ],
      "text/plain": [
       "<IPython.core.display.Markdown object>"
      ]
     },
     "metadata": {},
     "output_type": "display_data"
    },
    {
     "data": {
      "text/markdown": [
       "Iteration: 172 topic: Sampling and Estimation  -> content-utility-curriculum (Year) not found"
      ],
      "text/plain": [
       "<IPython.core.display.Markdown object>"
      ]
     },
     "metadata": {},
     "output_type": "display_data"
    },
    {
     "data": {
      "text/markdown": [
       "Iteration: 172 topic: Sampling and Estimation  -> PDF Link not found"
      ],
      "text/plain": [
       "<IPython.core.display.Markdown object>"
      ]
     },
     "metadata": {},
     "output_type": "display_data"
    },
    {
     "data": {
      "text/markdown": [
       "Iteration: 180 topic: Fixed-Income Markets for Government Issuers  -> Learning Outcomes not found"
      ],
      "text/plain": [
       "<IPython.core.display.Markdown object>"
      ]
     },
     "metadata": {},
     "output_type": "display_data"
    },
    {
     "data": {
      "text/markdown": [
       "Iteration: 183 topic: Case Study in Risk Management: Institutional  -> Learning Outcomes not found"
      ],
      "text/plain": [
       "<IPython.core.display.Markdown object>"
      ]
     },
     "metadata": {},
     "output_type": "display_data"
    },
    {
     "data": {
      "text/markdown": [
       "Iteration: 184 topic: Hedge Funds  -> Learning Outcomes not found"
      ],
      "text/plain": [
       "<IPython.core.display.Markdown object>"
      ]
     },
     "metadata": {},
     "output_type": "display_data"
    },
    {
     "data": {
      "text/markdown": [
       "Iteration: 188 topic: Credit Analysis for Government Issuers  -> Learning Outcomes not found"
      ],
      "text/plain": [
       "<IPython.core.display.Markdown object>"
      ]
     },
     "metadata": {},
     "output_type": "display_data"
    },
    {
     "data": {
      "text/markdown": [
       "Iteration: 189 topic: Asset-Backed Security (ABS) Instrument and Market Features  -> Learning Outcomes not found"
      ],
      "text/plain": [
       "<IPython.core.display.Markdown object>"
      ]
     },
     "metadata": {},
     "output_type": "display_data"
    },
    {
     "data": {
      "text/markdown": [
       "Iteration: 190 topic: Fixed-Income Bond Valuation: Prices and Yields  -> Learning Outcomes not found"
      ],
      "text/plain": [
       "<IPython.core.display.Markdown object>"
      ]
     },
     "metadata": {},
     "output_type": "display_data"
    },
    {
     "data": {
      "text/markdown": [
       "Iteration: 191 topic: The Term Structure of Interest Rates: Spot, Par, and Forward Curves  -> Learning Outcomes not found"
      ],
      "text/plain": [
       "<IPython.core.display.Markdown object>"
      ]
     },
     "metadata": {},
     "output_type": "display_data"
    },
    {
     "data": {
      "text/markdown": [
       "Iteration: 192 topic: Alternative Investment Performance and Returns  -> Learning Outcomes not found"
      ],
      "text/plain": [
       "<IPython.core.display.Markdown object>"
      ]
     },
     "metadata": {},
     "output_type": "display_data"
    },
    {
     "data": {
      "text/markdown": [
       "Iteration: 193 topic: Investments in Private Capital: Equity & Debt  -> Learning Outcomes not found"
      ],
      "text/plain": [
       "<IPython.core.display.Markdown object>"
      ]
     },
     "metadata": {},
     "output_type": "display_data"
    },
    {
     "data": {
      "text/markdown": [
       "Iteration: 194 topic: Credit Risk  -> Learning Outcomes not found"
      ],
      "text/plain": [
       "<IPython.core.display.Markdown object>"
      ]
     },
     "metadata": {},
     "output_type": "display_data"
    },
    {
     "data": {
      "text/markdown": [
       "Iteration: 195 topic: Fixed-Income Securitization  -> Learning Outcomes not found"
      ],
      "text/plain": [
       "<IPython.core.display.Markdown object>"
      ]
     },
     "metadata": {},
     "output_type": "display_data"
    },
    {
     "data": {
      "text/markdown": [
       "Iteration: 196 topic: Investors and Other Stakeholders  -> Learning Outcomes not found"
      ],
      "text/plain": [
       "<IPython.core.display.Markdown object>"
      ]
     },
     "metadata": {},
     "output_type": "display_data"
    },
    {
     "data": {
      "text/markdown": [
       "Iteration: 197 topic: Yield and Yield Spread Measures for Fixed-Rate Bonds  -> Learning Outcomes not found"
      ],
      "text/plain": [
       "<IPython.core.display.Markdown object>"
      ]
     },
     "metadata": {},
     "output_type": "display_data"
    },
    {
     "data": {
      "text/markdown": [
       "Iteration: 199 topic: Alternative Investment Features, Methods, and Structures  -> Learning Outcomes not found"
      ],
      "text/plain": [
       "<IPython.core.display.Markdown object>"
      ]
     },
     "metadata": {},
     "output_type": "display_data"
    },
    {
     "data": {
      "text/markdown": [
       "Iteration: 200 topic: Curve-Based and Empirical Fixed-Income Risk Measures  -> Learning Outcomes not found"
      ],
      "text/plain": [
       "<IPython.core.display.Markdown object>"
      ]
     },
     "metadata": {},
     "output_type": "display_data"
    },
    {
     "data": {
      "text/markdown": [
       "Iteration: 201 topic: Organizational Forms, Corporate Issuer Features, and Ownership  -> Learning Outcomes not found"
      ],
      "text/plain": [
       "<IPython.core.display.Markdown object>"
      ]
     },
     "metadata": {},
     "output_type": "display_data"
    },
    {
     "data": {
      "text/markdown": [
       "Iteration: 202 topic: Hedge Funds  -> Learning Outcomes not found"
      ],
      "text/plain": [
       "<IPython.core.display.Markdown object>"
      ]
     },
     "metadata": {},
     "output_type": "display_data"
    },
    {
     "data": {
      "text/markdown": [
       "Iteration: 203 topic: Introduction to Digital Assets  -> Learning Outcomes not found"
      ],
      "text/plain": [
       "<IPython.core.display.Markdown object>"
      ]
     },
     "metadata": {},
     "output_type": "display_data"
    },
    {
     "data": {
      "text/markdown": [
       "Iteration: 204 topic: Fixed-Income Instrument Features  -> Learning Outcomes not found"
      ],
      "text/plain": [
       "<IPython.core.display.Markdown object>"
      ]
     },
     "metadata": {},
     "output_type": "display_data"
    },
    {
     "data": {
      "text/markdown": [
       "Iteration: 205 topic: Multinational Operations (2018)  -> PDF Link not found"
      ],
      "text/plain": [
       "<IPython.core.display.Markdown object>"
      ]
     },
     "metadata": {},
     "output_type": "display_data"
    },
    {
     "data": {
      "text/markdown": [
       "Iteration: 206 topic: Natural Resources  -> Learning Outcomes not found"
      ],
      "text/plain": [
       "<IPython.core.display.Markdown object>"
      ]
     },
     "metadata": {},
     "output_type": "display_data"
    },
    {
     "data": {
      "text/markdown": [
       "Iteration: 207 topic: Real Estate & Infrastructure  -> Learning Outcomes not found"
      ],
      "text/plain": [
       "<IPython.core.display.Markdown object>"
      ]
     },
     "metadata": {},
     "output_type": "display_data"
    },
    {
     "data": {
      "text/markdown": [
       "Iteration: 208 topic: Credit Analysis for Corporate Issuers  -> Learning Outcomes not found"
      ],
      "text/plain": [
       "<IPython.core.display.Markdown object>"
      ]
     },
     "metadata": {},
     "output_type": "display_data"
    },
    {
     "data": {
      "text/markdown": [
       "Iteration: 209 topic: Mortgage-Backed Security (MBS) Instrument and Market Features  -> Learning Outcomes not found"
      ],
      "text/plain": [
       "<IPython.core.display.Markdown object>"
      ]
     },
     "metadata": {},
     "output_type": "display_data"
    },
    {
     "data": {
      "text/markdown": [
       "Iteration: 210 topic: Fixed-Income Issuance and Trading  -> Learning Outcomes not found"
      ],
      "text/plain": [
       "<IPython.core.display.Markdown object>"
      ]
     },
     "metadata": {},
     "output_type": "display_data"
    },
    {
     "data": {
      "text/markdown": [
       "Iteration: 211 topic: Industry and Competitive Analysis  -> Learning Outcomes not found"
      ],
      "text/plain": [
       "<IPython.core.display.Markdown object>"
      ]
     },
     "metadata": {},
     "output_type": "display_data"
    },
    {
     "data": {
      "text/markdown": [
       "Iteration: 212 topic: Company Analysis: Forecasting  -> Learning Outcomes not found"
      ],
      "text/plain": [
       "<IPython.core.display.Markdown object>"
      ]
     },
     "metadata": {},
     "output_type": "display_data"
    },
    {
     "data": {
      "text/markdown": [
       "Iteration: 216 topic: Company Analysis: Past and Present  -> Learning Outcomes not found"
      ],
      "text/plain": [
       "<IPython.core.display.Markdown object>"
      ]
     },
     "metadata": {},
     "output_type": "display_data"
    },
    {
     "data": {
      "text/markdown": [
       "Iteration: 217 topic: Business Models  -> Learning Outcomes not found"
      ],
      "text/plain": [
       "<IPython.core.display.Markdown object>"
      ]
     },
     "metadata": {},
     "output_type": "display_data"
    },
    {
     "data": {
      "text/markdown": [
       "Iteration: 218 topic: Fixed-Income Markets for Corporate Issuers  -> Learning Outcomes not found"
      ],
      "text/plain": [
       "<IPython.core.display.Markdown object>"
      ]
     },
     "metadata": {},
     "output_type": "display_data"
    },
    {
     "data": {
      "text/markdown": [
       "Iteration: 219 topic: Corporate Governance: Conflicts, Mechanisms, Risks, and Benefits  -> Learning Outcomes not found"
      ],
      "text/plain": [
       "<IPython.core.display.Markdown object>"
      ]
     },
     "metadata": {},
     "output_type": "display_data"
    },
    {
     "data": {
      "text/markdown": [
       "Iteration: 220 topic: Fixed-Income Cash Flows and Types  -> Learning Outcomes not found"
      ],
      "text/plain": [
       "<IPython.core.display.Markdown object>"
      ]
     },
     "metadata": {},
     "output_type": "display_data"
    },
    {
     "data": {
      "text/markdown": [
       "------- Ending Data Extraction -------"
      ],
      "text/plain": [
       "<IPython.core.display.Markdown object>"
      ]
     },
     "metadata": {},
     "output_type": "display_data"
    },
    {
     "data": {
      "text/markdown": [
       "-------Starting Writing to CSV -------"
      ],
      "text/plain": [
       "<IPython.core.display.Markdown object>"
      ]
     },
     "metadata": {},
     "output_type": "display_data"
    },
    {
     "data": {
      "text/markdown": [
       "------- Ending Writing to CSV -------"
      ],
      "text/plain": [
       "<IPython.core.display.Markdown object>"
      ]
     },
     "metadata": {},
     "output_type": "display_data"
    }
   ],
   "source": [
    "if __name__ == \"__main__\":\n",
    "    # test connectuion\n",
    "    testConnection()\n",
    "    # get topic URL list\n",
    "    individual_topics_urls = getPageURLs()\n",
    "    # extract data in form of DF\n",
    "    df = extractData(individual_topics_urls)\n",
    "    # convert DF to CSV file\n",
    "    convertDFtoCSV(df)"
   ]
  }
 ],
 "metadata": {
  "kernelspec": {
   "display_name": "Python 3 (ipykernel)",
   "language": "python",
   "name": "python3"
  },
  "language_info": {
   "codemirror_mode": {
    "name": "ipython",
    "version": 3
   },
   "file_extension": ".py",
   "mimetype": "text/x-python",
   "name": "python",
   "nbconvert_exporter": "python",
   "pygments_lexer": "ipython3",
   "version": "3.11.5"
  }
 },
 "nbformat": 4,
 "nbformat_minor": 5
}
